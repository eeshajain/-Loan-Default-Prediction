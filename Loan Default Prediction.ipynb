{
 "cells": [
  {
   "cell_type": "code",
   "execution_count": 104,
   "id": "69bb76d2-1f66-48ae-8119-a6952ac112ac",
   "metadata": {},
   "outputs": [],
   "source": [
    "import numpy as np\n",
    "import pandas as pd\n",
    "import matplotlib.pyplot as plt\n",
    "import seaborn as sns\n",
    "import missingno as msno \n",
    "import scipy.stats as stats\n",
    "from sklearn.preprocessing import LabelEncoder\n"
   ]
  },
  {
   "cell_type": "code",
   "execution_count": 105,
   "id": "3a343deb-a403-466f-8dfc-d7a92baa2eec",
   "metadata": {},
   "outputs": [],
   "source": [
    "df=pd.read_csv(\"Loan_Default[2].csv\")"
   ]
  },
  {
   "cell_type": "markdown",
   "id": "752cd226-6aa9-41b3-9c14-e12b174ff48e",
   "metadata": {},
   "source": [
    "## EDA and DATA Preprocessing"
   ]
  },
  {
   "cell_type": "code",
   "execution_count": 106,
   "id": "5b01ba49-bb02-4045-b17f-63ac495d7938",
   "metadata": {},
   "outputs": [
    {
     "data": {
      "text/plain": [
       "(148670, 34)"
      ]
     },
     "execution_count": 106,
     "metadata": {},
     "output_type": "execute_result"
    }
   ],
   "source": [
    "df.shape"
   ]
  },
  {
   "cell_type": "code",
   "execution_count": 107,
   "id": "4ddcc81a-653e-4b36-926c-e668b9977b1f",
   "metadata": {},
   "outputs": [
    {
     "data": {
      "text/plain": [
       "np.int64(0)"
      ]
     },
     "execution_count": 107,
     "metadata": {},
     "output_type": "execute_result"
    }
   ],
   "source": [
    "df.duplicated().sum()"
   ]
  },
  {
   "cell_type": "markdown",
   "id": "5ecc1f34-c8e0-44df-ae1d-69ed91e54687",
   "metadata": {},
   "source": [
    "- ID: The skewness is equal to 0; that means its distribution is uniform and all values are unique without any duplication, which indicates that all borrowers in the set only apply the loan for once. To validate this assumption, we check the duplication; the result of all FALSEs in Figure 1.2 supports our hypothesis and hence we can drop this variable.\n",
    "  \n",
    "- Year: Min and max are identical, equal 2019, with range of 0. This signifies that there is only one year of 2019 in our dataset, so we could drop this column.\n",
    "\n",
    "  \n",
    "- Construction type: This variable contains only two classes with a highly skewed distribution. Therefore, we investigate further the significance and contribution of minority class to the set.\n",
    "\n",
    "- Secured_by and Security_type: The same insight is applied for two variables about collateral security. Consequently, we drop these two as well.\n",
    "\n",
    "- Upfront_charges: This is processing fee for the loan as an admin procedure, we consider this non-significant variable and drop it. Another reason to drop the column is the variable contains too many missing values, which may violate the assumption: an important factor in evaluating the risk will not be missing dramatically.\n",
    "\n",
    "- Neg_ammortization: Amortization is just a method of paying off an amount owed over time by making planned, incremental payments of principal and interest. A loan with or without this method is considered optional and hence could be neglectable. Authors remove the column to reduce data dimension.\n"
   ]
  },
  {
   "cell_type": "code",
   "execution_count": 108,
   "id": "6eb335ab-dbf4-41e7-81b6-02cdf0c5dd93",
   "metadata": {},
   "outputs": [],
   "source": [
    "df.drop(['ID', 'year','construction_type','Secured_by','Security_Type','Upfront_charges','Neg_ammortization' ],inplace=True,axis=1)"
   ]
  },
  {
   "cell_type": "code",
   "execution_count": 109,
   "id": "726d4509-124a-471c-90c3-7fca7affa795",
   "metadata": {},
   "outputs": [
    {
     "data": {
      "text/plain": [
       "Index(['loan_limit', 'Gender', 'approv_in_adv', 'loan_type', 'loan_purpose',\n",
       "       'Credit_Worthiness', 'open_credit', 'business_or_commercial',\n",
       "       'loan_amount', 'rate_of_interest', 'Interest_rate_spread', 'term',\n",
       "       'interest_only', 'lump_sum_payment', 'property_value', 'occupancy_type',\n",
       "       'total_units', 'income', 'credit_type', 'Credit_Score',\n",
       "       'co-applicant_credit_type', 'age', 'submission_of_application', 'LTV',\n",
       "       'Region', 'Status', 'dtir1'],\n",
       "      dtype='object')"
      ]
     },
     "execution_count": 109,
     "metadata": {},
     "output_type": "execute_result"
    }
   ],
   "source": [
    "df.columns"
   ]
  },
  {
   "cell_type": "code",
   "execution_count": 110,
   "id": "97f87d54-ee9f-45e9-a3ec-e333a5eb1a98",
   "metadata": {},
   "outputs": [
    {
     "data": {
      "text/plain": [
       "loan_limit                    3344\n",
       "Gender                           0\n",
       "approv_in_adv                  908\n",
       "loan_type                        0\n",
       "loan_purpose                   134\n",
       "Credit_Worthiness                0\n",
       "open_credit                      0\n",
       "business_or_commercial           0\n",
       "loan_amount                      0\n",
       "rate_of_interest             36439\n",
       "Interest_rate_spread         36639\n",
       "term                            41\n",
       "interest_only                    0\n",
       "lump_sum_payment                 0\n",
       "property_value               15098\n",
       "occupancy_type                   0\n",
       "total_units                      0\n",
       "income                        9150\n",
       "credit_type                      0\n",
       "Credit_Score                     0\n",
       "co-applicant_credit_type         0\n",
       "age                            200\n",
       "submission_of_application      200\n",
       "LTV                          15098\n",
       "Region                           0\n",
       "Status                           0\n",
       "dtir1                        24121\n",
       "dtype: int64"
      ]
     },
     "execution_count": 110,
     "metadata": {},
     "output_type": "execute_result"
    }
   ],
   "source": [
    "df.isnull().sum()"
   ]
  },
  {
   "cell_type": "code",
   "execution_count": 111,
   "id": "2b6d77bc-bc18-45e4-b95e-bb4df93a1a0f",
   "metadata": {},
   "outputs": [
    {
     "data": {
      "text/plain": [
       "loan_limit                    2.249277\n",
       "Gender                        0.000000\n",
       "approv_in_adv                 0.610749\n",
       "loan_type                     0.000000\n",
       "loan_purpose                  0.090133\n",
       "Credit_Worthiness             0.000000\n",
       "open_credit                   0.000000\n",
       "business_or_commercial        0.000000\n",
       "loan_amount                   0.000000\n",
       "rate_of_interest             24.509989\n",
       "Interest_rate_spread         24.644515\n",
       "term                          0.027578\n",
       "interest_only                 0.000000\n",
       "lump_sum_payment              0.000000\n",
       "property_value               10.155378\n",
       "occupancy_type                0.000000\n",
       "total_units                   0.000000\n",
       "income                        6.154571\n",
       "credit_type                   0.000000\n",
       "Credit_Score                  0.000000\n",
       "co-applicant_credit_type      0.000000\n",
       "age                           0.134526\n",
       "submission_of_application     0.134526\n",
       "LTV                          10.155378\n",
       "Region                        0.000000\n",
       "Status                        0.000000\n",
       "dtir1                        16.224524\n",
       "dtype: float64"
      ]
     },
     "execution_count": 111,
     "metadata": {},
     "output_type": "execute_result"
    }
   ],
   "source": [
    "df.isnull().sum()/len(df)*100"
   ]
  },
  {
   "cell_type": "code",
   "execution_count": 112,
   "id": "2e8171dc-3ebb-4649-83b1-df34706651aa",
   "metadata": {},
   "outputs": [
    {
     "data": {
      "image/png": "[encoded data removed]",
      "text/plain": [
       "<Figure size 1200x800 with 1 Axes>"
      ]
     },
     "metadata": {},
     "output_type": "display_data"
    }
   ],
   "source": [
    "import seaborn as sns\n",
    "import matplotlib.pyplot as plt\n",
    "\n",
    "# Visualize the missing data pattern\n",
    "plt.figure(figsize=(12, 8))\n",
    "sns.heatmap(df.isnull(), cbar=False, cmap='viridis')\n",
    "plt.show()\n"
   ]
  },
  {
   "cell_type": "markdown",
   "id": "b0ad1a6f-0177-42bc-84d0-57b3d0761d5e",
   "metadata": {},
   "source": [
    "- rate_of_interest and Interest_rate_spread are a pair.\n",
    "- property_value and LTV, which is the relative difference between the loan amount and the current market value of a home (the property_value) are another pair.\n",
    "- Income and dtir1, which is the percentage of gross monthly income that is used to pay monthly debt and determines borrowing risk, are another pair."
   ]
  },
  {
   "cell_type": "markdown",
   "id": "259d6dd7-1b17-413d-acf7-eebef322853a",
   "metadata": {},
   "source": [
    "This means we do not need to impute all these 6 variables (3 pairs) because it will cause severe multicollinearity issues when we run models but just fill out 3 variables and drop 3 remaining ones of each pair."
   ]
  },
  {
   "cell_type": "markdown",
   "id": "8a198d3c-1064-4f2c-8402-dbf142ed445c",
   "metadata": {},
   "source": [
    "Dropped variables: ltv, interest rate spread, dtir1, year, id, upfront charges , Construction type,Secured_by , Security_type, Neg_ammortization."
   ]
  },
  {
   "cell_type": "code",
   "execution_count": 113,
   "id": "9e245f72-8456-45bf-9623-e324ec5e7296",
   "metadata": {},
   "outputs": [],
   "source": [
    "df.drop(['LTV','Interest_rate_spread','dtir1'],inplace=True, axis=1)"
   ]
  },
  {
   "cell_type": "code",
   "execution_count": 114,
   "id": "48f2ae7d-95d3-45f0-b077-be171cfe39d7",
   "metadata": {},
   "outputs": [
    {
     "data": {
      "text/plain": [
       "(148670, 24)"
      ]
     },
     "execution_count": 114,
     "metadata": {},
     "output_type": "execute_result"
    }
   ],
   "source": [
    "df.shape"
   ]
  },
  {
   "cell_type": "code",
   "execution_count": 115,
   "id": "7edd14f3-76bc-4ffc-af6d-76aa4db1cd29",
   "metadata": {},
   "outputs": [
    {
     "data": {
      "text/plain": [
       "loan_limit                    3344\n",
       "Gender                           0\n",
       "approv_in_adv                  908\n",
       "loan_type                        0\n",
       "loan_purpose                   134\n",
       "Credit_Worthiness                0\n",
       "open_credit                      0\n",
       "business_or_commercial           0\n",
       "loan_amount                      0\n",
       "rate_of_interest             36439\n",
       "term                            41\n",
       "interest_only                    0\n",
       "lump_sum_payment                 0\n",
       "property_value               15098\n",
       "occupancy_type                   0\n",
       "total_units                      0\n",
       "income                        9150\n",
       "credit_type                      0\n",
       "Credit_Score                     0\n",
       "co-applicant_credit_type         0\n",
       "age                            200\n",
       "submission_of_application      200\n",
       "Region                           0\n",
       "Status                           0\n",
       "dtype: int64"
      ]
     },
     "execution_count": 115,
     "metadata": {},
     "output_type": "execute_result"
    }
   ],
   "source": [
    "df.isnull().sum()"
   ]
  },
  {
   "cell_type": "code",
   "execution_count": 116,
   "id": "a24f027d-60d7-4d10-a489-ef82eb86a3c8",
   "metadata": {},
   "outputs": [],
   "source": [
    "df.dropna(subset=['loan_limit','approv_in_adv','loan_purpose','age', 'term','submission_of_application'],inplace=True)"
   ]
  },
  {
   "cell_type": "code",
   "execution_count": 117,
   "id": "dfad4513-889f-4493-93b8-99902ae143a0",
   "metadata": {},
   "outputs": [
    {
     "data": {
      "text/plain": [
       "loan_limit                       0\n",
       "Gender                           0\n",
       "approv_in_adv                    0\n",
       "loan_type                        0\n",
       "loan_purpose                     0\n",
       "Credit_Worthiness                0\n",
       "open_credit                      0\n",
       "business_or_commercial           0\n",
       "loan_amount                      0\n",
       "rate_of_interest             35287\n",
       "term                             0\n",
       "interest_only                    0\n",
       "lump_sum_payment                 0\n",
       "property_value               14605\n",
       "occupancy_type                   0\n",
       "total_units                      0\n",
       "income                        8835\n",
       "credit_type                      0\n",
       "Credit_Score                     0\n",
       "co-applicant_credit_type         0\n",
       "age                              0\n",
       "submission_of_application        0\n",
       "Region                           0\n",
       "Status                           0\n",
       "dtype: int64"
      ]
     },
     "execution_count": 117,
     "metadata": {},
     "output_type": "execute_result"
    }
   ],
   "source": [
    "df.isnull().sum()"
   ]
  },
  {
   "cell_type": "code",
   "execution_count": 118,
   "id": "e64eba15-e15e-44ed-87bf-6405cf6a5dca",
   "metadata": {},
   "outputs": [
    {
     "data": {
      "text/plain": [
       "(array([1.0000e+00, 0.0000e+00, 0.0000e+00, 0.0000e+00, 0.0000e+00,\n",
       "        7.0000e+00, 7.5800e+02, 5.0270e+03, 1.5572e+04, 3.9958e+04,\n",
       "        2.0565e+04, 1.6581e+04, 7.4440e+03, 2.0340e+03, 5.9800e+02,\n",
       "        2.1600e+02, 8.0000e+00, 2.0000e+00, 3.0000e+00, 2.0000e+00]),\n",
       " array([0. , 0.4, 0.8, 1.2, 1.6, 2. , 2.4, 2.8, 3.2, 3.6, 4. , 4.4, 4.8,\n",
       "        5.2, 5.6, 6. , 6.4, 6.8, 7.2, 7.6, 8. ]),\n",
       " <BarContainer object of 20 artists>)"
      ]
     },
     "execution_count": 118,
     "metadata": {},
     "output_type": "execute_result"
    },
    {
     "data": {
      "image/png": "[encoded data removed]",
      "text/plain": [
       "<Figure size 640x480 with 1 Axes>"
      ]
     },
     "metadata": {},
     "output_type": "display_data"
    }
   ],
   "source": [
    "plt.hist(df['rate_of_interest'],bins=20)"
   ]
  },
  {
   "cell_type": "code",
   "execution_count": 119,
   "id": "0baa7c4b-19c7-4403-93c9-a9bfbe9508b4",
   "metadata": {},
   "outputs": [
    {
     "name": "stdout",
     "output_type": "stream",
     "text": [
      "0.397658645610867\n",
      "4.040168925130543\n",
      "3.99\n"
     ]
    }
   ],
   "source": [
    "print(df['rate_of_interest'].skew())\n",
    "print(df['rate_of_interest'].mean())\n",
    "print(df['rate_of_interest'].median())\n"
   ]
  },
  {
   "cell_type": "markdown",
   "id": "7d1573f3-c6ed-4a57-a1b2-2009d023829c",
   "metadata": {},
   "source": [
    "For interest_rate, it is a fact that within a year, the rate does not vary much. The descriptive analysis gives us the normal distribution of the interest rate with very low skewness of 0.39.\n",
    "The mean and the median are very close, so we could choose median imputation for Interest."
   ]
  },
  {
   "cell_type": "code",
   "execution_count": 120,
   "id": "7ad848fb-a1f3-45ee-8038-b94473505a93",
   "metadata": {},
   "outputs": [
    {
     "data": {
      "text/plain": [
       "(array([8.7040e+04, 3.6322e+04, 4.3270e+03, 1.0460e+03, 3.7600e+02,\n",
       "        1.9400e+02, 6.4000e+01, 3.4000e+01, 2.8000e+01, 9.0000e+00,\n",
       "        5.0000e+00, 5.0000e+00, 1.0000e+00, 1.0000e+00, 0.0000e+00,\n",
       "        1.0000e+00, 1.0000e+00, 0.0000e+00, 1.0000e+00, 0.0000e+00,\n",
       "        1.0000e+00, 1.0000e+00, 0.0000e+00, 0.0000e+00, 0.0000e+00,\n",
       "        0.0000e+00, 0.0000e+00, 0.0000e+00, 0.0000e+00, 1.0000e+00]),\n",
       " array([8.0000e+03, 5.5800e+05, 1.1080e+06, 1.6580e+06, 2.2080e+06,\n",
       "        2.7580e+06, 3.3080e+06, 3.8580e+06, 4.4080e+06, 4.9580e+06,\n",
       "        5.5080e+06, 6.0580e+06, 6.6080e+06, 7.1580e+06, 7.7080e+06,\n",
       "        8.2580e+06, 8.8080e+06, 9.3580e+06, 9.9080e+06, 1.0458e+07,\n",
       "        1.1008e+07, 1.1558e+07, 1.2108e+07, 1.2658e+07, 1.3208e+07,\n",
       "        1.3758e+07, 1.4308e+07, 1.4858e+07, 1.5408e+07, 1.5958e+07,\n",
       "        1.6508e+07]),\n",
       " <BarContainer object of 30 artists>)"
      ]
     },
     "execution_count": 120,
     "metadata": {},
     "output_type": "execute_result"
    },
    {
     "data": {
      "image/png": "[encoded data removed]",
      "text/plain": [
       "<Figure size 640x480 with 1 Axes>"
      ]
     },
     "metadata": {},
     "output_type": "display_data"
    }
   ],
   "source": [
    "plt.hist(df['property_value'],bins=30)"
   ]
  },
  {
   "cell_type": "markdown",
   "id": "cbabdc9f-53be-42c0-b08a-a2df025f8c8a",
   "metadata": {},
   "source": [
    "Since the property value distributes in highly positive skewed shape"
   ]
  },
  {
   "cell_type": "code",
   "execution_count": 121,
   "id": "b0e04392-667c-497f-8be7-eaa0a93ba9c5",
   "metadata": {},
   "outputs": [
    {
     "name": "stdout",
     "output_type": "stream",
     "text": [
      "4.609565149682037\n",
      "499532.3888828809\n",
      "418000.0\n"
     ]
    }
   ],
   "source": [
    "print(df['property_value'].skew())\n",
    "print(df['property_value'].mean())\n",
    "print(df['property_value'].median())\n"
   ]
  },
  {
   "cell_type": "markdown",
   "id": "54fb9edf-fbba-44ca-9ae5-d8f579aa05ea",
   "metadata": {},
   "source": [
    "rate_of_interest: median\n",
    "property_value: median (based on total property)\n",
    "income: MICE"
   ]
  },
  {
   "cell_type": "code",
   "execution_count": 122,
   "id": "5f40bc9e-dfac-4742-b230-55ad68344f71",
   "metadata": {},
   "outputs": [
    {
     "data": {
      "text/html": [
       "<div>\n",
       "<style scoped>\n",
       "    .dataframe tbody tr th:only-of-type {\n",
       "        vertical-align: middle;\n",
       "    }\n",
       "\n",
       "    .dataframe tbody tr th {\n",
       "        vertical-align: top;\n",
       "    }\n",
       "\n",
       "    .dataframe thead th {\n",
       "        text-align: right;\n",
       "    }\n",
       "</style>\n",
       "<table border=\"1\" class=\"dataframe\">\n",
       "  <thead>\n",
       "    <tr style=\"text-align: right;\">\n",
       "      <th></th>\n",
       "      <th>loan_limit</th>\n",
       "      <th>Gender</th>\n",
       "      <th>approv_in_adv</th>\n",
       "      <th>loan_type</th>\n",
       "      <th>loan_purpose</th>\n",
       "      <th>Credit_Worthiness</th>\n",
       "      <th>open_credit</th>\n",
       "      <th>business_or_commercial</th>\n",
       "      <th>loan_amount</th>\n",
       "      <th>rate_of_interest</th>\n",
       "      <th>...</th>\n",
       "      <th>occupancy_type</th>\n",
       "      <th>total_units</th>\n",
       "      <th>income</th>\n",
       "      <th>credit_type</th>\n",
       "      <th>Credit_Score</th>\n",
       "      <th>co-applicant_credit_type</th>\n",
       "      <th>age</th>\n",
       "      <th>submission_of_application</th>\n",
       "      <th>Region</th>\n",
       "      <th>Status</th>\n",
       "    </tr>\n",
       "  </thead>\n",
       "  <tbody>\n",
       "    <tr>\n",
       "      <th>0</th>\n",
       "      <td>cf</td>\n",
       "      <td>Sex Not Available</td>\n",
       "      <td>nopre</td>\n",
       "      <td>type1</td>\n",
       "      <td>p1</td>\n",
       "      <td>l1</td>\n",
       "      <td>nopc</td>\n",
       "      <td>nob/c</td>\n",
       "      <td>116500</td>\n",
       "      <td>3.99</td>\n",
       "      <td>...</td>\n",
       "      <td>pr</td>\n",
       "      <td>1U</td>\n",
       "      <td>1740.0</td>\n",
       "      <td>EXP</td>\n",
       "      <td>758</td>\n",
       "      <td>CIB</td>\n",
       "      <td>25-34</td>\n",
       "      <td>to_inst</td>\n",
       "      <td>south</td>\n",
       "      <td>1</td>\n",
       "    </tr>\n",
       "    <tr>\n",
       "      <th>1</th>\n",
       "      <td>cf</td>\n",
       "      <td>Male</td>\n",
       "      <td>nopre</td>\n",
       "      <td>type2</td>\n",
       "      <td>p1</td>\n",
       "      <td>l1</td>\n",
       "      <td>nopc</td>\n",
       "      <td>b/c</td>\n",
       "      <td>206500</td>\n",
       "      <td>3.99</td>\n",
       "      <td>...</td>\n",
       "      <td>pr</td>\n",
       "      <td>1U</td>\n",
       "      <td>4980.0</td>\n",
       "      <td>EQUI</td>\n",
       "      <td>552</td>\n",
       "      <td>EXP</td>\n",
       "      <td>55-64</td>\n",
       "      <td>to_inst</td>\n",
       "      <td>North</td>\n",
       "      <td>1</td>\n",
       "    </tr>\n",
       "    <tr>\n",
       "      <th>2</th>\n",
       "      <td>cf</td>\n",
       "      <td>Male</td>\n",
       "      <td>pre</td>\n",
       "      <td>type1</td>\n",
       "      <td>p1</td>\n",
       "      <td>l1</td>\n",
       "      <td>nopc</td>\n",
       "      <td>nob/c</td>\n",
       "      <td>406500</td>\n",
       "      <td>4.56</td>\n",
       "      <td>...</td>\n",
       "      <td>pr</td>\n",
       "      <td>1U</td>\n",
       "      <td>9480.0</td>\n",
       "      <td>EXP</td>\n",
       "      <td>834</td>\n",
       "      <td>CIB</td>\n",
       "      <td>35-44</td>\n",
       "      <td>to_inst</td>\n",
       "      <td>south</td>\n",
       "      <td>0</td>\n",
       "    </tr>\n",
       "    <tr>\n",
       "      <th>3</th>\n",
       "      <td>cf</td>\n",
       "      <td>Male</td>\n",
       "      <td>nopre</td>\n",
       "      <td>type1</td>\n",
       "      <td>p4</td>\n",
       "      <td>l1</td>\n",
       "      <td>nopc</td>\n",
       "      <td>nob/c</td>\n",
       "      <td>456500</td>\n",
       "      <td>4.25</td>\n",
       "      <td>...</td>\n",
       "      <td>pr</td>\n",
       "      <td>1U</td>\n",
       "      <td>11880.0</td>\n",
       "      <td>EXP</td>\n",
       "      <td>587</td>\n",
       "      <td>CIB</td>\n",
       "      <td>45-54</td>\n",
       "      <td>not_inst</td>\n",
       "      <td>North</td>\n",
       "      <td>0</td>\n",
       "    </tr>\n",
       "    <tr>\n",
       "      <th>4</th>\n",
       "      <td>cf</td>\n",
       "      <td>Joint</td>\n",
       "      <td>pre</td>\n",
       "      <td>type1</td>\n",
       "      <td>p1</td>\n",
       "      <td>l1</td>\n",
       "      <td>nopc</td>\n",
       "      <td>nob/c</td>\n",
       "      <td>696500</td>\n",
       "      <td>4.00</td>\n",
       "      <td>...</td>\n",
       "      <td>pr</td>\n",
       "      <td>1U</td>\n",
       "      <td>10440.0</td>\n",
       "      <td>CRIF</td>\n",
       "      <td>602</td>\n",
       "      <td>EXP</td>\n",
       "      <td>25-34</td>\n",
       "      <td>not_inst</td>\n",
       "      <td>North</td>\n",
       "      <td>0</td>\n",
       "    </tr>\n",
       "  </tbody>\n",
       "</table>\n",
       "<p>5 rows × 24 columns</p>\n",
       "</div>"
      ],
      "text/plain": [
       "  loan_limit             Gender approv_in_adv loan_type loan_purpose  \\\n",
       "0         cf  Sex Not Available         nopre     type1           p1   \n",
       "1         cf               Male         nopre     type2           p1   \n",
       "2         cf               Male           pre     type1           p1   \n",
       "3         cf               Male         nopre     type1           p4   \n",
       "4         cf              Joint           pre     type1           p1   \n",
       "\n",
       "  Credit_Worthiness open_credit business_or_commercial  loan_amount  \\\n",
       "0                l1        nopc                  nob/c       116500   \n",
       "1                l1        nopc                    b/c       206500   \n",
       "2                l1        nopc                  nob/c       406500   \n",
       "3                l1        nopc                  nob/c       456500   \n",
       "4                l1        nopc                  nob/c       696500   \n",
       "\n",
       "   rate_of_interest  ...  occupancy_type total_units   income  credit_type  \\\n",
       "0              3.99  ...              pr          1U   1740.0          EXP   \n",
       "1              3.99  ...              pr          1U   4980.0         EQUI   \n",
       "2              4.56  ...              pr          1U   9480.0          EXP   \n",
       "3              4.25  ...              pr          1U  11880.0          EXP   \n",
       "4              4.00  ...              pr          1U  10440.0         CRIF   \n",
       "\n",
       "  Credit_Score co-applicant_credit_type    age submission_of_application  \\\n",
       "0          758                      CIB  25-34                   to_inst   \n",
       "1          552                      EXP  55-64                   to_inst   \n",
       "2          834                      CIB  35-44                   to_inst   \n",
       "3          587                      CIB  45-54                  not_inst   \n",
       "4          602                      EXP  25-34                  not_inst   \n",
       "\n",
       "   Region Status  \n",
       "0   south      1  \n",
       "1   North      1  \n",
       "2   south      0  \n",
       "3   North      0  \n",
       "4   North      0  \n",
       "\n",
       "[5 rows x 24 columns]"
      ]
     },
     "execution_count": 122,
     "metadata": {},
     "output_type": "execute_result"
    }
   ],
   "source": [
    "import pandas as pd\n",
    "import numpy as np\n",
    "from sklearn.experimental import enable_iterative_imputer\n",
    "from sklearn.impute import IterativeImputer\n",
    "\n",
    "# Sample DataFrame (replace with your actual data loading method)\n",
    "# df = pd.read_csv('path_to_your_data.csv')\n",
    "\n",
    "# 1. Impute `rate_of_interest` with median\n",
    "df['rate_of_interest'] = df['rate_of_interest'].fillna(df['rate_of_interest'].median())\n",
    "\n",
    "# 2. Impute `property_value` with median based on `total_units`\n",
    "# Group by `total_units` and calculate median `property_value`\n",
    "grouped_median = df.groupby('total_units')['property_value'].median()\n",
    "\n",
    "# Function to apply the grouped median\n",
    "def impute_property_value(row):\n",
    "    if pd.isna(row['property_value']):\n",
    "        return grouped_median[row['total_units']]\n",
    "    else:\n",
    "        return row['property_value']\n",
    "\n",
    "df['property_value'] = df.apply(impute_property_value, axis=1)\n",
    "\n",
    "# 3. Impute `income` using MICE\n",
    "imputer = IterativeImputer(max_iter=10, random_state=0)\n",
    "df[['income']] = imputer.fit_transform(df[['income']])\n",
    "\n",
    "# Display the imputed DataFrame\n",
    "df.head()\n"
   ]
  },
  {
   "cell_type": "code",
   "execution_count": 123,
   "id": "095bbf49-1f3c-4d9b-b6d8-540eca4e06e6",
   "metadata": {},
   "outputs": [
    {
     "data": {
      "text/plain": [
       "loan_limit                   0\n",
       "Gender                       0\n",
       "approv_in_adv                0\n",
       "loan_type                    0\n",
       "loan_purpose                 0\n",
       "Credit_Worthiness            0\n",
       "open_credit                  0\n",
       "business_or_commercial       0\n",
       "loan_amount                  0\n",
       "rate_of_interest             0\n",
       "term                         0\n",
       "interest_only                0\n",
       "lump_sum_payment             0\n",
       "property_value               0\n",
       "occupancy_type               0\n",
       "total_units                  0\n",
       "income                       0\n",
       "credit_type                  0\n",
       "Credit_Score                 0\n",
       "co-applicant_credit_type     0\n",
       "age                          0\n",
       "submission_of_application    0\n",
       "Region                       0\n",
       "Status                       0\n",
       "dtype: int64"
      ]
     },
     "execution_count": 123,
     "metadata": {},
     "output_type": "execute_result"
    }
   ],
   "source": [
    "df.isnull().sum()"
   ]
  },
  {
   "cell_type": "markdown",
   "id": "295e9aa4-cfe7-4544-bfb7-195ef0c6ceea",
   "metadata": {},
   "source": [
    "## Outlier Detection"
   ]
  },
  {
   "cell_type": "markdown",
   "id": "200730c8-6bf9-4984-ae97-1de672e23fb4",
   "metadata": {},
   "source": [
    "To elaborate, if both range and skew of variable are high, this is the sign of outlier existence."
   ]
  },
  {
   "cell_type": "code",
   "execution_count": 124,
   "id": "ffcb9a13-e58c-4a38-889b-7ff58ce8a62e",
   "metadata": {},
   "outputs": [
    {
     "data": {
      "text/plain": [
       "loan_amount          1.680916\n",
       "rate_of_interest     0.531311\n",
       "term                -2.171595\n",
       "property_value       4.887327\n",
       "income              18.157788\n",
       "Credit_Score         0.005738\n",
       "Status               1.186186\n",
       "dtype: float64"
      ]
     },
     "execution_count": 124,
     "metadata": {},
     "output_type": "execute_result"
    }
   ],
   "source": [
    "df.select_dtypes(include=['int','float']).skew()"
   ]
  },
  {
   "cell_type": "code",
   "execution_count": 125,
   "id": "30f4cbc5-5c11-4c15-896e-47ad819e94f5",
   "metadata": {},
   "outputs": [
    {
     "data": {
      "text/plain": [
       "loan_amount          3560000.0\n",
       "rate_of_interest           8.0\n",
       "term                     264.0\n",
       "property_value      16500000.0\n",
       "income                578580.0\n",
       "Credit_Score             400.0\n",
       "Status                     1.0\n",
       "dtype: float64"
      ]
     },
     "execution_count": 125,
     "metadata": {},
     "output_type": "execute_result"
    }
   ],
   "source": [
    "df.select_dtypes(include=['int','float']).max()-df.select_dtypes(include=['int','float']).min()"
   ]
  },
  {
   "cell_type": "markdown",
   "id": "ab5c50d8-845b-4f2e-8e7a-575e8481dd60",
   "metadata": {},
   "source": [
    "outliers are expected to exist in property_value and income."
   ]
  },
  {
   "cell_type": "code",
   "execution_count": 126,
   "id": "2196b16c-2bee-4251-950b-70fac8cb27ac",
   "metadata": {},
   "outputs": [
    {
     "data": {
      "text/plain": [
       "<Axes: xlabel='income', ylabel='loan_amount'>"
      ]
     },
     "execution_count": 126,
     "metadata": {},
     "output_type": "execute_result"
    },
    {
     "data": {
      "image/png": "[encoded data removed]",
      "text/plain": [
       "<Figure size 640x480 with 1 Axes>"
      ]
     },
     "metadata": {},
     "output_type": "display_data"
    }
   ],
   "source": [
    "sns.scatterplot(x=df['income'],y=df['loan_amount'])"
   ]
  },
  {
   "cell_type": "code",
   "execution_count": 127,
   "id": "2806fef8-7f51-4142-9dc2-3f98edb7f7a3",
   "metadata": {},
   "outputs": [
    {
     "data": {
      "text/plain": [
       "<Axes: xlabel='income', ylabel='rate_of_interest'>"
      ]
     },
     "execution_count": 127,
     "metadata": {},
     "output_type": "execute_result"
    },
    {
     "data": {
      "image/png": "[encoded data removed]",
      "text/plain": [
       "<Figure size 640x480 with 1 Axes>"
      ]
     },
     "metadata": {},
     "output_type": "display_data"
    }
   ],
   "source": [
    "sns.scatterplot(x=df['income'],y=df['rate_of_interest'])"
   ]
  },
  {
   "cell_type": "code",
   "execution_count": 128,
   "id": "e8941422-0772-48e9-a663-2e4df77e59c1",
   "metadata": {},
   "outputs": [
    {
     "data": {
      "text/plain": [
       "<Axes: ylabel='income'>"
      ]
     },
     "execution_count": 128,
     "metadata": {},
     "output_type": "execute_result"
    },
    {
     "data": {
      "image/png": "[encoded data removed]",
      "text/plain": [
       "<Figure size 640x480 with 1 Axes>"
      ]
     },
     "metadata": {},
     "output_type": "display_data"
    }
   ],
   "source": [
    "sns.boxplot(df['income'])"
   ]
  },
  {
   "cell_type": "code",
   "execution_count": 129,
   "id": "3f04250d-2498-4e60-9ca8-12834c0dbc3a",
   "metadata": {},
   "outputs": [
    {
     "data": {
      "text/plain": [
       "count    144063.000000\n",
       "mean       6962.983849\n",
       "std        6296.567293\n",
       "min           0.000000\n",
       "25%        3840.000000\n",
       "50%        6000.000000\n",
       "75%        8280.000000\n",
       "max      578580.000000\n",
       "Name: income, dtype: float64"
      ]
     },
     "execution_count": 129,
     "metadata": {},
     "output_type": "execute_result"
    }
   ],
   "source": [
    "df['income'].describe()"
   ]
  },
  {
   "cell_type": "code",
   "execution_count": 130,
   "id": "eb824e70-ed50-4084-ba54-8b2446a23342",
   "metadata": {},
   "outputs": [
    {
     "data": {
      "text/plain": [
       "np.float64(26040.0)"
      ]
     },
     "execution_count": 130,
     "metadata": {},
     "output_type": "execute_result"
    }
   ],
   "source": [
    "df['income'].quantile(.99)"
   ]
  },
  {
   "cell_type": "markdown",
   "id": "8d0513e8-184b-4c46-86a0-ebebbc0c14d1",
   "metadata": {},
   "source": [
    "99% quantile is at 26,040 only, while the maximum is 578,580, which is 21 time higher, a huge gap for observations."
   ]
  },
  {
   "cell_type": "markdown",
   "id": "2f7b3410-ca91-4c29-8013-b59512f1f751",
   "metadata": {},
   "source": [
    "Therefore, we will remove outliers by 99% quantile for this variable."
   ]
  },
  {
   "cell_type": "code",
   "execution_count": 131,
   "id": "d553fca3-d629-4ce6-8844-412f12eec0ea",
   "metadata": {},
   "outputs": [
    {
     "data": {
      "text/plain": [
       "(144063, 24)"
      ]
     },
     "execution_count": 131,
     "metadata": {},
     "output_type": "execute_result"
    }
   ],
   "source": [
    "df.shape"
   ]
  },
  {
   "cell_type": "code",
   "execution_count": 132,
   "id": "497ddf7d-3436-4a9e-81e1-c0b95c7673aa",
   "metadata": {},
   "outputs": [
    {
     "data": {
      "text/plain": [
       "(142626, 24)"
      ]
     },
     "execution_count": 132,
     "metadata": {},
     "output_type": "execute_result"
    }
   ],
   "source": [
    "percentile_99 = df['income'].quantile(0.99)\n",
    "df = df[df['income'] <= percentile_99]\n",
    "df.shape"
   ]
  },
  {
   "cell_type": "code",
   "execution_count": 133,
   "id": "7a94ee3f-5721-4b00-b52a-33a8d395d0d8",
   "metadata": {},
   "outputs": [
    {
     "data": {
      "text/plain": [
       "<Axes: ylabel='property_value'>"
      ]
     },
     "execution_count": 133,
     "metadata": {},
     "output_type": "execute_result"
    },
    {
     "data": {
      "image/png": "[encoded data removed]",
      "text/plain": [
       "<Figure size 640x480 with 1 Axes>"
      ]
     },
     "metadata": {},
     "output_type": "display_data"
    }
   ],
   "source": [
    "sns.boxplot(df['property_value'])"
   ]
  },
  {
   "cell_type": "code",
   "execution_count": 134,
   "id": "532389ff-0862-4975-9e85-11923a272e0b",
   "metadata": {},
   "outputs": [
    {
     "data": {
      "text/plain": [
       "<Axes: xlabel='property_value', ylabel='rate_of_interest'>"
      ]
     },
     "execution_count": 134,
     "metadata": {},
     "output_type": "execute_result"
    },
    {
     "data": {
      "image/png": "[encoded data removed]",
      "text/plain": [
       "<Figure size 640x480 with 1 Axes>"
      ]
     },
     "metadata": {},
     "output_type": "display_data"
    }
   ],
   "source": [
    "sns.scatterplot(x=df['property_value'],y=df['rate_of_interest'])"
   ]
  },
  {
   "cell_type": "markdown",
   "id": "9d51d0ed-111f-4a19-a10a-3e757c23a189",
   "metadata": {},
   "source": [
    "Investigate Property: The same procedure is applied for this variable. However, the outliers are fewer as we can see from the plot. Therefore, we choose quantile of 99.5% to cut off and remove highly unusual observations.\n",
    "\n"
   ]
  },
  {
   "cell_type": "code",
   "execution_count": 135,
   "id": "0506bbe2-54e5-461c-98d3-fb19da699330",
   "metadata": {},
   "outputs": [
    {
     "data": {
      "text/plain": [
       "(141231, 24)"
      ]
     },
     "execution_count": 135,
     "metadata": {},
     "output_type": "execute_result"
    }
   ],
   "source": [
    "percentile_99 = df['property_value'].quantile(0.99)\n",
    "df = df[df['property_value'] <= percentile_99]\n",
    "df.shape"
   ]
  },
  {
   "cell_type": "markdown",
   "id": "531a3076-e8ea-42e4-9547-a41002218ab8",
   "metadata": {},
   "source": [
    "## Encoding Variables"
   ]
  },
  {
   "cell_type": "markdown",
   "id": "9ca01d9f-5bee-4b6f-bf14-bbf519240097",
   "metadata": {},
   "source": [
    "## Label encoding for ordinal columns"
   ]
  },
  {
   "cell_type": "code",
   "execution_count": 136,
   "id": "4a5174f6-69bc-4b98-a0f8-740b9be2947a",
   "metadata": {},
   "outputs": [
    {
     "data": {
      "text/html": [
       "<div>\n",
       "<style scoped>\n",
       "    .dataframe tbody tr th:only-of-type {\n",
       "        vertical-align: middle;\n",
       "    }\n",
       "\n",
       "    .dataframe tbody tr th {\n",
       "        vertical-align: top;\n",
       "    }\n",
       "\n",
       "    .dataframe thead th {\n",
       "        text-align: right;\n",
       "    }\n",
       "</style>\n",
       "<table border=\"1\" class=\"dataframe\">\n",
       "  <thead>\n",
       "    <tr style=\"text-align: right;\">\n",
       "      <th></th>\n",
       "      <th>loan_limit</th>\n",
       "      <th>Gender</th>\n",
       "      <th>approv_in_adv</th>\n",
       "      <th>loan_type</th>\n",
       "      <th>loan_purpose</th>\n",
       "      <th>Credit_Worthiness</th>\n",
       "      <th>open_credit</th>\n",
       "      <th>business_or_commercial</th>\n",
       "      <th>loan_amount</th>\n",
       "      <th>rate_of_interest</th>\n",
       "      <th>...</th>\n",
       "      <th>occupancy_type</th>\n",
       "      <th>total_units</th>\n",
       "      <th>income</th>\n",
       "      <th>credit_type</th>\n",
       "      <th>Credit_Score</th>\n",
       "      <th>co-applicant_credit_type</th>\n",
       "      <th>age</th>\n",
       "      <th>submission_of_application</th>\n",
       "      <th>Region</th>\n",
       "      <th>Status</th>\n",
       "    </tr>\n",
       "  </thead>\n",
       "  <tbody>\n",
       "    <tr>\n",
       "      <th>0</th>\n",
       "      <td>1</td>\n",
       "      <td>Sex Not Available</td>\n",
       "      <td>nopre</td>\n",
       "      <td>type1</td>\n",
       "      <td>p1</td>\n",
       "      <td>1</td>\n",
       "      <td>nopc</td>\n",
       "      <td>nob/c</td>\n",
       "      <td>116500</td>\n",
       "      <td>3.990</td>\n",
       "      <td>...</td>\n",
       "      <td>pr</td>\n",
       "      <td>1</td>\n",
       "      <td>1740.0</td>\n",
       "      <td>EXP</td>\n",
       "      <td>758</td>\n",
       "      <td>CIB</td>\n",
       "      <td>3</td>\n",
       "      <td>to_inst</td>\n",
       "      <td>south</td>\n",
       "      <td>1</td>\n",
       "    </tr>\n",
       "    <tr>\n",
       "      <th>1</th>\n",
       "      <td>1</td>\n",
       "      <td>Male</td>\n",
       "      <td>nopre</td>\n",
       "      <td>type2</td>\n",
       "      <td>p1</td>\n",
       "      <td>1</td>\n",
       "      <td>nopc</td>\n",
       "      <td>b/c</td>\n",
       "      <td>206500</td>\n",
       "      <td>3.990</td>\n",
       "      <td>...</td>\n",
       "      <td>pr</td>\n",
       "      <td>1</td>\n",
       "      <td>4980.0</td>\n",
       "      <td>EQUI</td>\n",
       "      <td>552</td>\n",
       "      <td>EXP</td>\n",
       "      <td>7</td>\n",
       "      <td>to_inst</td>\n",
       "      <td>North</td>\n",
       "      <td>1</td>\n",
       "    </tr>\n",
       "    <tr>\n",
       "      <th>2</th>\n",
       "      <td>1</td>\n",
       "      <td>Male</td>\n",
       "      <td>pre</td>\n",
       "      <td>type1</td>\n",
       "      <td>p1</td>\n",
       "      <td>1</td>\n",
       "      <td>nopc</td>\n",
       "      <td>nob/c</td>\n",
       "      <td>406500</td>\n",
       "      <td>4.560</td>\n",
       "      <td>...</td>\n",
       "      <td>pr</td>\n",
       "      <td>1</td>\n",
       "      <td>9480.0</td>\n",
       "      <td>EXP</td>\n",
       "      <td>834</td>\n",
       "      <td>CIB</td>\n",
       "      <td>4</td>\n",
       "      <td>to_inst</td>\n",
       "      <td>south</td>\n",
       "      <td>0</td>\n",
       "    </tr>\n",
       "    <tr>\n",
       "      <th>3</th>\n",
       "      <td>1</td>\n",
       "      <td>Male</td>\n",
       "      <td>nopre</td>\n",
       "      <td>type1</td>\n",
       "      <td>p4</td>\n",
       "      <td>1</td>\n",
       "      <td>nopc</td>\n",
       "      <td>nob/c</td>\n",
       "      <td>456500</td>\n",
       "      <td>4.250</td>\n",
       "      <td>...</td>\n",
       "      <td>pr</td>\n",
       "      <td>1</td>\n",
       "      <td>11880.0</td>\n",
       "      <td>EXP</td>\n",
       "      <td>587</td>\n",
       "      <td>CIB</td>\n",
       "      <td>6</td>\n",
       "      <td>not_inst</td>\n",
       "      <td>North</td>\n",
       "      <td>0</td>\n",
       "    </tr>\n",
       "    <tr>\n",
       "      <th>4</th>\n",
       "      <td>1</td>\n",
       "      <td>Joint</td>\n",
       "      <td>pre</td>\n",
       "      <td>type1</td>\n",
       "      <td>p1</td>\n",
       "      <td>1</td>\n",
       "      <td>nopc</td>\n",
       "      <td>nob/c</td>\n",
       "      <td>696500</td>\n",
       "      <td>4.000</td>\n",
       "      <td>...</td>\n",
       "      <td>pr</td>\n",
       "      <td>1</td>\n",
       "      <td>10440.0</td>\n",
       "      <td>CRIF</td>\n",
       "      <td>602</td>\n",
       "      <td>EXP</td>\n",
       "      <td>3</td>\n",
       "      <td>not_inst</td>\n",
       "      <td>North</td>\n",
       "      <td>0</td>\n",
       "    </tr>\n",
       "    <tr>\n",
       "      <th>...</th>\n",
       "      <td>...</td>\n",
       "      <td>...</td>\n",
       "      <td>...</td>\n",
       "      <td>...</td>\n",
       "      <td>...</td>\n",
       "      <td>...</td>\n",
       "      <td>...</td>\n",
       "      <td>...</td>\n",
       "      <td>...</td>\n",
       "      <td>...</td>\n",
       "      <td>...</td>\n",
       "      <td>...</td>\n",
       "      <td>...</td>\n",
       "      <td>...</td>\n",
       "      <td>...</td>\n",
       "      <td>...</td>\n",
       "      <td>...</td>\n",
       "      <td>...</td>\n",
       "      <td>...</td>\n",
       "      <td>...</td>\n",
       "      <td>...</td>\n",
       "    </tr>\n",
       "    <tr>\n",
       "      <th>148665</th>\n",
       "      <td>1</td>\n",
       "      <td>Sex Not Available</td>\n",
       "      <td>nopre</td>\n",
       "      <td>type1</td>\n",
       "      <td>p3</td>\n",
       "      <td>1</td>\n",
       "      <td>nopc</td>\n",
       "      <td>nob/c</td>\n",
       "      <td>436500</td>\n",
       "      <td>3.125</td>\n",
       "      <td>...</td>\n",
       "      <td>pr</td>\n",
       "      <td>1</td>\n",
       "      <td>7860.0</td>\n",
       "      <td>CIB</td>\n",
       "      <td>659</td>\n",
       "      <td>EXP</td>\n",
       "      <td>7</td>\n",
       "      <td>to_inst</td>\n",
       "      <td>south</td>\n",
       "      <td>0</td>\n",
       "    </tr>\n",
       "    <tr>\n",
       "      <th>148666</th>\n",
       "      <td>1</td>\n",
       "      <td>Male</td>\n",
       "      <td>nopre</td>\n",
       "      <td>type1</td>\n",
       "      <td>p1</td>\n",
       "      <td>1</td>\n",
       "      <td>nopc</td>\n",
       "      <td>nob/c</td>\n",
       "      <td>586500</td>\n",
       "      <td>5.190</td>\n",
       "      <td>...</td>\n",
       "      <td>ir</td>\n",
       "      <td>4</td>\n",
       "      <td>7140.0</td>\n",
       "      <td>CIB</td>\n",
       "      <td>569</td>\n",
       "      <td>CIB</td>\n",
       "      <td>3</td>\n",
       "      <td>not_inst</td>\n",
       "      <td>south</td>\n",
       "      <td>0</td>\n",
       "    </tr>\n",
       "    <tr>\n",
       "      <th>148667</th>\n",
       "      <td>1</td>\n",
       "      <td>Male</td>\n",
       "      <td>nopre</td>\n",
       "      <td>type1</td>\n",
       "      <td>p4</td>\n",
       "      <td>1</td>\n",
       "      <td>nopc</td>\n",
       "      <td>nob/c</td>\n",
       "      <td>446500</td>\n",
       "      <td>3.125</td>\n",
       "      <td>...</td>\n",
       "      <td>pr</td>\n",
       "      <td>1</td>\n",
       "      <td>6900.0</td>\n",
       "      <td>CIB</td>\n",
       "      <td>702</td>\n",
       "      <td>EXP</td>\n",
       "      <td>6</td>\n",
       "      <td>not_inst</td>\n",
       "      <td>North</td>\n",
       "      <td>0</td>\n",
       "    </tr>\n",
       "    <tr>\n",
       "      <th>148668</th>\n",
       "      <td>1</td>\n",
       "      <td>Female</td>\n",
       "      <td>nopre</td>\n",
       "      <td>type1</td>\n",
       "      <td>p4</td>\n",
       "      <td>1</td>\n",
       "      <td>nopc</td>\n",
       "      <td>nob/c</td>\n",
       "      <td>196500</td>\n",
       "      <td>3.500</td>\n",
       "      <td>...</td>\n",
       "      <td>pr</td>\n",
       "      <td>1</td>\n",
       "      <td>7140.0</td>\n",
       "      <td>EXP</td>\n",
       "      <td>737</td>\n",
       "      <td>EXP</td>\n",
       "      <td>7</td>\n",
       "      <td>to_inst</td>\n",
       "      <td>North</td>\n",
       "      <td>0</td>\n",
       "    </tr>\n",
       "    <tr>\n",
       "      <th>148669</th>\n",
       "      <td>1</td>\n",
       "      <td>Female</td>\n",
       "      <td>nopre</td>\n",
       "      <td>type1</td>\n",
       "      <td>p3</td>\n",
       "      <td>1</td>\n",
       "      <td>nopc</td>\n",
       "      <td>nob/c</td>\n",
       "      <td>406500</td>\n",
       "      <td>4.375</td>\n",
       "      <td>...</td>\n",
       "      <td>pr</td>\n",
       "      <td>1</td>\n",
       "      <td>7260.0</td>\n",
       "      <td>CIB</td>\n",
       "      <td>830</td>\n",
       "      <td>CIB</td>\n",
       "      <td>6</td>\n",
       "      <td>not_inst</td>\n",
       "      <td>North</td>\n",
       "      <td>0</td>\n",
       "    </tr>\n",
       "  </tbody>\n",
       "</table>\n",
       "<p>141231 rows × 24 columns</p>\n",
       "</div>"
      ],
      "text/plain": [
       "        loan_limit             Gender approv_in_adv loan_type loan_purpose  \\\n",
       "0                1  Sex Not Available         nopre     type1           p1   \n",
       "1                1               Male         nopre     type2           p1   \n",
       "2                1               Male           pre     type1           p1   \n",
       "3                1               Male         nopre     type1           p4   \n",
       "4                1              Joint           pre     type1           p1   \n",
       "...            ...                ...           ...       ...          ...   \n",
       "148665           1  Sex Not Available         nopre     type1           p3   \n",
       "148666           1               Male         nopre     type1           p1   \n",
       "148667           1               Male         nopre     type1           p4   \n",
       "148668           1             Female         nopre     type1           p4   \n",
       "148669           1             Female         nopre     type1           p3   \n",
       "\n",
       "        Credit_Worthiness open_credit business_or_commercial  loan_amount  \\\n",
       "0                       1        nopc                  nob/c       116500   \n",
       "1                       1        nopc                    b/c       206500   \n",
       "2                       1        nopc                  nob/c       406500   \n",
       "3                       1        nopc                  nob/c       456500   \n",
       "4                       1        nopc                  nob/c       696500   \n",
       "...                   ...         ...                    ...          ...   \n",
       "148665                  1        nopc                  nob/c       436500   \n",
       "148666                  1        nopc                  nob/c       586500   \n",
       "148667                  1        nopc                  nob/c       446500   \n",
       "148668                  1        nopc                  nob/c       196500   \n",
       "148669                  1        nopc                  nob/c       406500   \n",
       "\n",
       "        rate_of_interest  ...  occupancy_type total_units   income  \\\n",
       "0                  3.990  ...              pr           1   1740.0   \n",
       "1                  3.990  ...              pr           1   4980.0   \n",
       "2                  4.560  ...              pr           1   9480.0   \n",
       "3                  4.250  ...              pr           1  11880.0   \n",
       "4                  4.000  ...              pr           1  10440.0   \n",
       "...                  ...  ...             ...         ...      ...   \n",
       "148665             3.125  ...              pr           1   7860.0   \n",
       "148666             5.190  ...              ir           4   7140.0   \n",
       "148667             3.125  ...              pr           1   6900.0   \n",
       "148668             3.500  ...              pr           1   7140.0   \n",
       "148669             4.375  ...              pr           1   7260.0   \n",
       "\n",
       "        credit_type Credit_Score  co-applicant_credit_type  age  \\\n",
       "0               EXP          758                       CIB    3   \n",
       "1              EQUI          552                       EXP    7   \n",
       "2               EXP          834                       CIB    4   \n",
       "3               EXP          587                       CIB    6   \n",
       "4              CRIF          602                       EXP    3   \n",
       "...             ...          ...                       ...  ...   \n",
       "148665          CIB          659                       EXP    7   \n",
       "148666          CIB          569                       CIB    3   \n",
       "148667          CIB          702                       EXP    6   \n",
       "148668          EXP          737                       EXP    7   \n",
       "148669          CIB          830                       CIB    6   \n",
       "\n",
       "       submission_of_application  Region Status  \n",
       "0                        to_inst   south      1  \n",
       "1                        to_inst   North      1  \n",
       "2                        to_inst   south      0  \n",
       "3                       not_inst   North      0  \n",
       "4                       not_inst   North      0  \n",
       "...                          ...     ...    ...  \n",
       "148665                   to_inst   south      0  \n",
       "148666                  not_inst   south      0  \n",
       "148667                  not_inst   North      0  \n",
       "148668                   to_inst   North      0  \n",
       "148669                  not_inst   North      0  \n",
       "\n",
       "[141231 rows x 24 columns]"
      ]
     },
     "execution_count": 136,
     "metadata": {},
     "output_type": "execute_result"
    }
   ],
   "source": [
    "age_mapping = {\n",
    "    '45-54': 6,\n",
    "    '35-44': 4,\n",
    "    '55-64': 7,\n",
    "    '65-74': 8,\n",
    "    '25-34': 3,\n",
    "    '>74': 9,\n",
    "    '<25': 1\n",
    "}\n",
    "\n",
    "loan_limit_mapping = {\n",
    "    'cf': 1,  # Conforming\n",
    "    'ncf': 2  # Non-Conforming\n",
    "}\n",
    "\n",
    "credit_worthiness_mapping = {\n",
    "    'l1': 1,  # Lower\n",
    "    'l2': 2   # Higher\n",
    "}\n",
    "\n",
    "total_units_mapping = {\n",
    "    '1U': 1,\n",
    "    '2U': 2,\n",
    "    '3U': 3,\n",
    "    '4U': 4\n",
    "}\n",
    "\n",
    "# Apply mappings\n",
    "df['age'] = df['age'].map(age_mapping)\n",
    "df['loan_limit'] = df['loan_limit'].map(loan_limit_mapping)\n",
    "df['Credit_Worthiness'] = df['Credit_Worthiness'].map(credit_worthiness_mapping)\n",
    "df['total_units'] = df['total_units'].map(total_units_mapping)\n",
    "\n",
    "\n",
    "pd.DataFrame(df)\n"
   ]
  },
  {
   "cell_type": "code",
   "execution_count": 137,
   "id": "39227425-cd4f-406f-8018-35a0f9cf2816",
   "metadata": {},
   "outputs": [
    {
     "data": {
      "text/plain": [
       "Index(['Gender', 'approv_in_adv', 'loan_type', 'loan_purpose', 'open_credit',\n",
       "       'business_or_commercial', 'interest_only', 'lump_sum_payment',\n",
       "       'occupancy_type', 'credit_type', 'co-applicant_credit_type',\n",
       "       'submission_of_application', 'Region'],\n",
       "      dtype='object')"
      ]
     },
     "execution_count": 137,
     "metadata": {},
     "output_type": "execute_result"
    }
   ],
   "source": [
    "df.select_dtypes(include=['object']).columns"
   ]
  },
  {
   "cell_type": "markdown",
   "id": "6e222b15-f673-4edc-a5eb-145a4cae66c0",
   "metadata": {},
   "source": [
    "## Label encoding for nominal columns"
   ]
  },
  {
   "cell_type": "code",
   "execution_count": 138,
   "id": "15412756-686c-4a0f-9fb3-7c257ae77cf3",
   "metadata": {},
   "outputs": [
    {
     "data": {
      "text/plain": [
       "(141231, 24)"
      ]
     },
     "execution_count": 138,
     "metadata": {},
     "output_type": "execute_result"
    }
   ],
   "source": [
    "from sklearn.preprocessing import LabelEncoder\n",
    "\n",
    "\n",
    "nominal_columns = [\n",
    "    'Gender', 'approv_in_adv', 'loan_type', 'loan_purpose', 'open_credit',\n",
    "    'business_or_commercial', 'interest_only',\n",
    "    'lump_sum_payment', 'occupancy_type',\n",
    "    'credit_type', 'co-applicant_credit_type', 'submission_of_application',\n",
    "    'Region'\n",
    "]\n",
    "\n",
    "\n",
    "# Instantiate a LabelEncoder\n",
    "label_encoder = LabelEncoder()\n",
    "\n",
    "# Apply the LabelEncoder to each column\n",
    "for column in nominal_columns:\n",
    "    df[column] = label_encoder.fit_transform(df[column])\n",
    "\n",
    "# Display the first few rows of the DataFrame to verify the changes\n",
    "df.shape\n"
   ]
  },
  {
   "cell_type": "markdown",
   "id": "926356ee-d180-4390-906a-274ecbd45da8",
   "metadata": {},
   "source": [
    "## 2. Explanatory Data Analysis\n"
   ]
  },
  {
   "cell_type": "code",
   "execution_count": 94,
   "id": "7d9a1c22-3a9e-4688-ba55-de91c579ea88",
   "metadata": {},
   "outputs": [
    {
     "data": {
      "text/plain": [
       "Index(['loan_limit', 'Gender', 'approv_in_adv', 'loan_type', 'loan_purpose',\n",
       "       'Credit_Worthiness', 'open_credit', 'business_or_commercial',\n",
       "       'loan_amount', 'rate_of_interest', 'term', 'interest_only',\n",
       "       'lump_sum_payment', 'property_value', 'occupancy_type', 'total_units',\n",
       "       'income', 'credit_type', 'Credit_Score', 'co-applicant_credit_type',\n",
       "       'age', 'submission_of_application', 'Region', 'Status'],\n",
       "      dtype='object')"
      ]
     },
     "execution_count": 94,
     "metadata": {},
     "output_type": "execute_result"
    }
   ],
   "source": [
    "df.columns"
   ]
  },
  {
   "cell_type": "code",
   "execution_count": null,
   "id": "0f71d920-8c10-4b05-b5b6-4a3516f51ee9",
   "metadata": {},
   "outputs": [],
   "source": []
  },
  {
   "cell_type": "code",
   "execution_count": null,
   "id": "3a9c5dd7-5f6c-4095-91a1-21938ad3297b",
   "metadata": {},
   "outputs": [],
   "source": []
  },
  {
   "cell_type": "code",
   "execution_count": null,
   "id": "9118f1f0-fd29-4544-877f-e2058f9688a2",
   "metadata": {},
   "outputs": [],
   "source": []
  },
  {
   "cell_type": "markdown",
   "id": "d613cd02-c22f-4a0f-a746-c3a8d4fca59b",
   "metadata": {},
   "source": [
    "## 3. Modelling"
   ]
  },
  {
   "cell_type": "markdown",
   "id": "c757e4d9-e0c5-4fd5-ad26-74db5bca008c",
   "metadata": {},
   "source": [
    "### *Logistic Regression*"
   ]
  },
  {
   "cell_type": "code",
   "execution_count": 139,
   "id": "6fc1b110-98e3-49e5-a61d-223631a4b7d5",
   "metadata": {},
   "outputs": [
    {
     "name": "stderr",
     "output_type": "stream",
     "text": [
      "C:\\Users\\eesha\\AppData\\Local\\Programs\\Python\\Python312\\Lib\\site-packages\\sklearn\\linear_model\\_logistic.py:469: ConvergenceWarning: lbfgs failed to converge (status=1):\n",
      "STOP: TOTAL NO. of ITERATIONS REACHED LIMIT.\n",
      "\n",
      "Increase the number of iterations (max_iter) or scale the data as shown in:\n",
      "    https://scikit-learn.org/stable/modules/preprocessing.html\n",
      "Please also refer to the documentation for alternative solver options:\n",
      "    https://scikit-learn.org/stable/modules/linear_model.html#logistic-regression\n",
      "  n_iter_i = _check_optimize_result(\n"
     ]
    },
    {
     "name": "stdout",
     "output_type": "stream",
     "text": [
      "Accuracy: 0.756894537473006\n",
      "              precision    recall  f1-score   support\n",
      "\n",
      "           0       0.77      0.98      0.86     21327\n",
      "           1       0.53      0.08      0.14      6920\n",
      "\n",
      "    accuracy                           0.76     28247\n",
      "   macro avg       0.65      0.53      0.50     28247\n",
      "weighted avg       0.71      0.76      0.68     28247\n",
      "\n"
     ]
    }
   ],
   "source": [
    "import pandas as pd\n",
    "from sklearn.model_selection import train_test_split\n",
    "from sklearn.linear_model import LogisticRegression\n",
    "from sklearn.metrics import accuracy_score, classification_report\n",
    "\n",
    "# Assuming df is your DataFrame and it contains the 'Status' column as the target\n",
    "\n",
    "# Step 2: Split the data into features (X) and target (y)\n",
    "X = df.drop(columns=['Status'])\n",
    "y = df['Status']\n",
    "\n",
    "# Step 3: Perform the train-test split\n",
    "X_train, X_test, y_train, y_test = train_test_split(X, y, test_size=0.2, random_state=42)\n",
    "\n",
    "# Step 4: Fit a logistic regression model on the training data\n",
    "logistic_model = LogisticRegression(max_iter=1000)\n",
    "logistic_model.fit(X_train, y_train)\n",
    "\n",
    "# Step 5: Evaluate the model on the test data\n",
    "y_pred = logistic_model.predict(X_test)\n",
    "\n",
    "# Calculate accuracy\n",
    "accuracy = accuracy_score(y_test, y_pred)\n",
    "print(f'Accuracy: {accuracy}')\n",
    "\n",
    "# Print classification report\n",
    "print(classification_report(y_test, y_pred))\n"
   ]
  },
  {
   "cell_type": "code",
   "execution_count": 140,
   "id": "56da7101-5d40-461a-aef4-645cc1d9f966",
   "metadata": {},
   "outputs": [],
   "source": [
    "import pandas as pd\n",
    "from sklearn.model_selection import train_test_split\n",
    "from sklearn.preprocessing import LabelEncoder\n",
    "from sklearn.ensemble import RandomForestClassifier\n",
    "from sklearn.tree import DecisionTreeClassifier\n",
    "from xgboost import XGBClassifier\n",
    "from sklearn.metrics import accuracy_score, classification_report"
   ]
  },
  {
   "cell_type": "code",
   "execution_count": 141,
   "id": "79c4420d-c740-4239-ab5f-2bb6bd8ebd3d",
   "metadata": {},
   "outputs": [
    {
     "name": "stdout",
     "output_type": "stream",
     "text": [
      "Decision Tree Accuracy: 0.9041668141749566\n",
      "              precision    recall  f1-score   support\n",
      "\n",
      "           0       0.94      0.94      0.94     21327\n",
      "           1       0.81      0.80      0.80      6920\n",
      "\n",
      "    accuracy                           0.90     28247\n",
      "   macro avg       0.87      0.87      0.87     28247\n",
      "weighted avg       0.90      0.90      0.90     28247\n",
      "\n"
     ]
    }
   ],
   "source": [
    "# Fit and evaluate Decision Tree model\n",
    "decision_tree = DecisionTreeClassifier(random_state=42)\n",
    "decision_tree.fit(X_train, y_train)\n",
    "dt_pred = decision_tree.predict(X_test)\n",
    "dt_accuracy = accuracy_score(y_test, dt_pred)\n",
    "print(f'Decision Tree Accuracy: {dt_accuracy}')\n",
    "print(classification_report(y_test, dt_pred))\n"
   ]
  },
  {
   "cell_type": "code",
   "execution_count": 142,
   "id": "3b1f9af0-8e6e-4440-8fc9-b5ffb509e614",
   "metadata": {},
   "outputs": [
    {
     "name": "stdout",
     "output_type": "stream",
     "text": [
      "Random Forest Accuracy: 0.9226820547314759\n",
      "              precision    recall  f1-score   support\n",
      "\n",
      "           0       0.95      0.95      0.95     21327\n",
      "           1       0.84      0.84      0.84      6920\n",
      "\n",
      "    accuracy                           0.92     28247\n",
      "   macro avg       0.90      0.90      0.90     28247\n",
      "weighted avg       0.92      0.92      0.92     28247\n",
      "\n"
     ]
    }
   ],
   "source": [
    "# Fit and evaluate Random Forest model\n",
    "random_forest = RandomForestClassifier(random_state=42)\n",
    "random_forest.fit(X_train, y_train)\n",
    "rf_pred = random_forest.predict(X_test)\n",
    "rf_accuracy = accuracy_score(y_test, rf_pred)\n",
    "print(f'Random Forest Accuracy: {rf_accuracy}')\n",
    "print(classification_report(y_test, rf_pred))\n",
    "\n"
   ]
  },
  {
   "cell_type": "markdown",
   "id": "64a28e47-3819-4049-865e-0f32adde7506",
   "metadata": {},
   "source": [
    "Even this is a default model, Random Forest performs effectively on both training and test sets. But let move forward to upgraded models to see if we could optimize further."
   ]
  },
  {
   "cell_type": "code",
   "execution_count": 143,
   "id": "3a4fa715-f027-4122-9852-5cfe5cd8d103",
   "metadata": {},
   "outputs": [
    {
     "name": "stdout",
     "output_type": "stream",
     "text": [
      "XGBoost Accuracy: 0.9253726059404539\n",
      "              precision    recall  f1-score   support\n",
      "\n",
      "           0       0.96      0.95      0.95     21327\n",
      "           1       0.84      0.86      0.85      6920\n",
      "\n",
      "    accuracy                           0.93     28247\n",
      "   macro avg       0.90      0.90      0.90     28247\n",
      "weighted avg       0.93      0.93      0.93     28247\n",
      "\n"
     ]
    }
   ],
   "source": [
    "# Fit and evaluate XGBoost model\n",
    "xgboost = XGBClassifier(random_state=42)\n",
    "xgboost.fit(X_train, y_train)\n",
    "xgb_pred = xgboost.predict(X_test)\n",
    "xgb_accuracy = accuracy_score(y_test, xgb_pred)\n",
    "print(f'XGBoost Accuracy: {xgb_accuracy}')\n",
    "print(classification_report(y_test, xgb_pred))\n"
   ]
  },
  {
   "cell_type": "code",
   "execution_count": null,
   "id": "59b99d9d-861d-4899-86c5-f0187378c842",
   "metadata": {},
   "outputs": [],
   "source": []
  },
  {
   "cell_type": "code",
   "execution_count": null,
   "id": "bc06104e-549e-4417-a531-012e4a047118",
   "metadata": {},
   "outputs": [],
   "source": []
  },
  {
   "cell_type": "code",
   "execution_count": null,
   "id": "64cfafc0-c433-4be0-b9da-8e1f5087b634",
   "metadata": {},
   "outputs": [],
   "source": []
  },
  {
   "cell_type": "code",
   "execution_count": null,
   "id": "021c6787-8c37-4dd0-aa49-38742aafbcfc",
   "metadata": {},
   "outputs": [],
   "source": []
  },
  {
   "cell_type": "code",
   "execution_count": null,
   "id": "6456d2a1-1fb9-41a3-ae8a-20b5bc72f1e6",
   "metadata": {},
   "outputs": [],
   "source": []
  },
  {
   "cell_type": "code",
   "execution_count": null,
   "id": "e6f68388-7449-4f77-add2-60a51c55b252",
   "metadata": {},
   "outputs": [],
   "source": []
  },
  {
   "cell_type": "code",
   "execution_count": null,
   "id": "d4f85dae-a812-4c8b-9e2a-ce7cec393a52",
   "metadata": {},
   "outputs": [],
   "source": []
  },
  {
   "cell_type": "code",
   "execution_count": null,
   "id": "00168421-1d04-4fab-b76a-c7d5f7a44941",
   "metadata": {},
   "outputs": [],
   "source": []
  },
  {
   "cell_type": "code",
   "execution_count": null,
   "id": "90b5ce06-bcdd-4cb8-87bd-355001248b5b",
   "metadata": {},
   "outputs": [],
   "source": []
  },
  {
   "cell_type": "code",
   "execution_count": null,
   "id": "8a42e313-32a5-46ac-af25-12bb14f5ce56",
   "metadata": {},
   "outputs": [],
   "source": []
  },
  {
   "cell_type": "code",
   "execution_count": null,
   "id": "5a43be45-8dda-4379-9892-06c22a28f0be",
   "metadata": {},
   "outputs": [],
   "source": []
  },
  {
   "cell_type": "code",
   "execution_count": null,
   "id": "9af8eb6b-6cf7-470e-9fb0-32ea8c0672da",
   "metadata": {},
   "outputs": [],
   "source": []
  },
  {
   "cell_type": "code",
   "execution_count": null,
   "id": "05015b37-39b3-4ca3-8f44-381687e032f3",
   "metadata": {},
   "outputs": [],
   "source": []
  },
  {
   "cell_type": "code",
   "execution_count": null,
   "id": "aa8ca10a-3449-450a-8ae9-6fd4d2aba8de",
   "metadata": {},
   "outputs": [],
   "source": []
  },
  {
   "cell_type": "code",
   "execution_count": null,
   "id": "445bd558-2406-4180-806f-2329d3f02c9a",
   "metadata": {},
   "outputs": [],
   "source": []
  }
 ],
 "metadata": {
  "kernelspec": {
   "display_name": "Python 3 (ipykernel)",
   "language": "python",
   "name": "python3"
  },
  "language_info": {
   "codemirror_mode": {
    "name": "ipython",
    "version": 3
   },
   "file_extension": ".py",
   "mimetype": "text/x-python",
   "name": "python",
   "nbconvert_exporter": "python",
   "pygments_lexer": "ipython3",
   "version": "3.12.4"
  }
 },
 "nbformat": 4,
 "nbformat_minor": 5
}
